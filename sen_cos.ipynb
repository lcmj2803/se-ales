{
 "cells": [
  {
   "cell_type": "code",
   "execution_count": null,
   "metadata": {},
   "outputs": [],
   "source": [
    "import numpy as np\n",
    "import matplotlib.pyplot as plt "
   ]
  },
  {
   "cell_type": "code",
   "execution_count": null,
   "metadata": {},
   "outputs": [],
   "source": [
    "#Onda Seno\n",
    "freq_sen = 1 #Herz\n",
    "amp_sen= 10 #amplitud\n",
    "muestreo= 100 #muestras por segundo \n",
    "dur= 10"
   ]
  },
  {
   "cell_type": "code",
   "execution_count": null,
   "metadata": {},
   "outputs": [],
   "source": [
    "#Onda Coseno\n",
    "freq_cos = 1\n",
    "amp_cos = 10"
   ]
  },
  {
   "cell_type": "code",
   "execution_count": null,
   "metadata": {},
   "outputs": [],
   "source": [
    "#Time array\n",
    "t = np.linspace(0,dur,int(muestreo*dur),endpoint=True)"
   ]
  },
  {
   "cell_type": "code",
   "execution_count": null,
   "metadata": {},
   "outputs": [],
   "source": [
    "#Onda Seno\n",
    "y_sen = amp_sen*np.sin(2*np.pi*freq_sen*t)"
   ]
  },
  {
   "cell_type": "code",
   "execution_count": null,
   "metadata": {},
   "outputs": [],
   "source": [
    "#Onda Coseno\n",
    "y_cos = amp_cos*np.sin(2*np.pi*freq_cos*t)"
   ]
  },
  {
   "cell_type": "code",
   "execution_count": null,
   "metadata": {},
   "outputs": [],
   "source": [
    "# Plot Seno\n",
    "plt.figure(figsize=(8,4))\n",
    "plt.plot(t,y_sen,label=f\"Onda Seno de {freq_sen}Hz\")\n",
    "plt.scatter(t,y_sen,color='red',s=5,label=\"Samples\")\n",
    "plt.xlabel(\"Tiempo\")\n",
    "plt.ylabel(\"Amplitud\")\n",
    "plt.title(\"Onda Seno\")\n",
    "plt.grid()\n",
    "plt.legend()\n",
    "plt.show()\n"
   ]
  },
  {
   "cell_type": "code",
   "execution_count": null,
   "metadata": {},
   "outputs": [],
   "source": [
    "#Plot Coseno\n",
    "plt.figure(figsize=(8,4))\n",
    "plt.plot(t,y_cos,label=f\"Onda Coseno de {freq_cos}Hz\")\n",
    "plt.scatter(t,y_cos,color=\"red\",s=5,label=\"Samples\")\n",
    "plt.xlabel(\"Tiempo\")\n",
    "plt.ylabel(\"Amplitud\")\n",
    "plt.title(\"Onda Coseno\")\n",
    "plt.grid()\n",
    "plt.legend()\n",
    "plt.show()"
   ]
  },
  {
   "cell_type": "code",
   "execution_count": null,
   "metadata": {},
   "outputs": [],
   "source": []
  }
 ],
 "metadata": {
  "kernelspec": {
   "display_name": "usr",
   "language": "python",
   "name": "python3"
  },
  "language_info": {
   "codemirror_mode": {
    "name": "ipython",
    "version": 3
   },
   "file_extension": ".py",
   "mimetype": "text/x-python",
   "name": "python",
   "nbconvert_exporter": "python",
   "pygments_lexer": "ipython3",
   "version": "3.10.12"
  }
 },
 "nbformat": 4,
 "nbformat_minor": 2
}
